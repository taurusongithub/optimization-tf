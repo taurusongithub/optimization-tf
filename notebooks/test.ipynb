{
 "cells": [
  {
   "cell_type": "markdown",
   "id": "dd13e486-7401-4a19-a8c2-d7cff85fa16f",
   "metadata": {},
   "source": [
    "# Test\n",
    "\n",
    "This is a test notebook to see if tensorflow and jupytext are installed correctly."
   ]
  },
  {
   "cell_type": "code",
   "execution_count": 1,
   "id": "baba065d-ce38-4751-8456-dd3dc1b970b6",
   "metadata": {},
   "outputs": [],
   "source": [
    "import tensorflow as tf"
   ]
  },
  {
   "cell_type": "code",
   "execution_count": 2,
   "id": "101a5b45-379c-4c33-9d43-46a77c59e271",
   "metadata": {},
   "outputs": [
    {
     "data": {
      "text/plain": [
       "True"
      ]
     },
     "execution_count": 2,
     "metadata": {},
     "output_type": "execute_result"
    }
   ],
   "source": [
    "tf.test.is_built_with_cuda()"
   ]
  },
  {
   "cell_type": "code",
   "execution_count": 3,
   "id": "180837c6-461c-4543-a8b4-fd425d280928",
   "metadata": {},
   "outputs": [
    {
     "data": {
      "text/plain": [
       "True"
      ]
     },
     "execution_count": 3,
     "metadata": {},
     "output_type": "execute_result"
    }
   ],
   "source": [
    "tf.test.is_built_with_cuda()"
   ]
  },
  {
   "cell_type": "markdown",
   "id": "c9245523",
   "metadata": {},
   "source": [
    "\n",
    "More test for jupytext."
   ]
  },
  {
   "cell_type": "markdown",
   "id": "7b4c286b-d734-4d15-8cf2-0cce494d55e7",
   "metadata": {},
   "source": [
    "And even more testing."
   ]
  }
 ],
 "metadata": {
  "jupytext": {
   "text_representation": {
    "extension": ".py",
    "format_name": "percent",
    "format_version": "1.3",
    "jupytext_version": "1.13.3"
   }
  },
  "kernelspec": {
   "display_name": "Python 3 (ipykernel)",
   "language": "python",
   "name": "python3"
  },
  "language_info": {
   "codemirror_mode": {
    "name": "ipython",
    "version": 3
   },
   "file_extension": ".py",
   "mimetype": "text/x-python",
   "name": "python",
   "nbconvert_exporter": "python",
   "pygments_lexer": "ipython3",
   "version": "3.9.7"
  }
 },
 "nbformat": 4,
 "nbformat_minor": 5
}
